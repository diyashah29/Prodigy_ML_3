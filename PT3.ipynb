{
 "cells": [
  {
   "cell_type": "code",
   "execution_count": null,
   "metadata": {},
   "outputs": [],
   "source": [
    "import numpy as np\n",
    "from sklearn import datasets\n",
    "from sklearn.model_selection import train_test_split\n",
    "from sklearn.preprocessing import StandardScaler\n",
    "from sklearn.svm import SVC\n",
    "from sklearn.metrics import accuracy_score\n",
    "from skimage.feature import hog\n",
    "from skimage import io, color, exposure\n",
    "import os\n",
    "\n",
    "# Step 1: Load and preprocess data\n",
    "def load_data(folder):\n",
    "    X = []\n",
    "    y = []\n",
    "    for filename in os.listdir(folder):\n",
    "        img = io.imread(os.path.join(folder, filename))\n",
    "        img = color.rgb2gray(img)\n",
    "        img = exposure.rescale_intensity(img, in_range=(0, 0.05))\n",
    "        features = hog(img, orientations=8, pixels_per_cell=(16, 16), cells_per_block=(1, 1), visualize=False)\n",
    "        X.append(features)\n",
    "        if 'cat' in filename:\n",
    "            y.append(0)  # Label 0 for cat\n",
    "        else:\n",
    "            y.append(1)  # Label 1 for dog\n",
    "    return np.array(X), np.array(y)\n",
    "\n",
    "X, y = load_data(\"C:\\Users\\Prashant\\Downloads\\archive (7)\")\n",
    "\n",
    "# Split the data into training and testing sets\n",
    "X_train, X_test, y_train, y_test = train_test_split(X, y, test_size=0.2, random_state=42)\n",
    "\n",
    "# Step 2: Feature scaling\n",
    "scaler = StandardScaler()\n",
    "X_train_scaled = scaler.fit_transform(X_train)\n",
    "X_test_scaled = scaler.transform(X_test)\n",
    "\n",
    "# Step 3: Train the SVM classifier\n",
    "svm = SVC(kernel='linear', C=1.0, random_state=42)\n",
    "svm.fit(X_train_scaled, y_train)\n",
    "\n",
    "# Step 4: Evaluate the classifier\n",
    "y_pred = svm.predict(X_test_scaled)\n",
    "accuracy = accuracy_score(y_test, y_pred)\n",
    "print(\"Accuracy:\", accuracy)\n"
   ]
  }
 ],
 "metadata": {
  "language_info": {
   "name": "python"
  }
 },
 "nbformat": 4,
 "nbformat_minor": 2
}
